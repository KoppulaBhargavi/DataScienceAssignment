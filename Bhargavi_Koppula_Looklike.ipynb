{
 "cells": [
  {
   "cell_type": "code",
   "execution_count": 13,
   "id": "14c467e8-744f-4a86-a70d-67bff0f0d2b5",
   "metadata": {},
   "outputs": [
    {
     "name": "stdout",
     "output_type": "stream",
     "text": [
      "  CustomerID  total_transactions  total_spent  average_price  Region_Asia  \\\n",
      "0      C0001                 5.0      3354.52     278.334000        False   \n",
      "1      C0002                 4.0      1862.74     208.920000         True   \n",
      "2      C0003                 4.0      2725.38     195.707500        False   \n",
      "3      C0004                 8.0      5354.88     240.636250        False   \n",
      "4      C0005                 3.0      2034.24     291.603333         True   \n",
      "\n",
      "   Region_Europe  Region_North America  Region_South America  \\\n",
      "0          False                 False                  True   \n",
      "1          False                 False                 False   \n",
      "2          False                 False                  True   \n",
      "3          False                 False                  True   \n",
      "4          False                 False                 False   \n",
      "\n",
      "   most_frequent_category_Books  most_frequent_category_Clothing  \\\n",
      "0                         False                            False   \n",
      "1                         False                             True   \n",
      "2                         False                            False   \n",
      "3                          True                            False   \n",
      "4                         False                            False   \n",
      "\n",
      "   most_frequent_category_Electronics  most_frequent_category_Home Decor  \n",
      "0                                True                              False  \n",
      "1                               False                              False  \n",
      "2                               False                               True  \n",
      "3                               False                              False  \n",
      "4                                True                              False  \n"
     ]
    }
   ],
   "source": [
    "import pandas as pd\n",
    "\n",
    "# Load the datasets (replace with your actual file paths)\n",
    "customers_df = pd.read_csv('Customers.csv')\n",
    "products_df = pd.read_csv('Products.csv')\n",
    "transactions_df = pd.read_csv('Transactions.csv')\n",
    "\n",
    "# Merge transactions with product information to get 'Price' and 'Category' for each transaction\n",
    "transactions_df = transactions_df.merge(products_df[['ProductID', 'Price', 'Category']], on='ProductID', how='left')\n",
    "\n",
    "# Rename columns to avoid confusion between 'Price' columns\n",
    "transactions_df.rename(columns={'Price_y': 'ProductPrice'}, inplace=True)  # Rename 'Price_y' to 'ProductPrice'\n",
    "transactions_df.drop(columns=['Price_x'], inplace=True)  # Drop 'Price_x' which is redundant\n",
    "\n",
    "# Fill missing values in 'Category' with 'Unknown'\n",
    "transactions_df['Category'] = transactions_df['Category'].fillna('Unknown')\n",
    "\n",
    "# Aggregating customer transaction data\n",
    "customer_transactions = transactions_df.groupby('CustomerID').agg(\n",
    "    total_transactions=('TransactionID', 'count'),       # Count of transactions\n",
    "    total_spent=('TotalValue', 'sum'),                   # Total amount spent\n",
    "    average_price=('ProductPrice', 'mean'),              # Average price of items bought\n",
    "    most_frequent_category=('Category', lambda x: x.mode()[0] if not x.mode().empty else 'Unknown')  # Handle empty mode\n",
    ").reset_index()\n",
    "\n",
    "# Merge the aggregated transaction data with customer profile information\n",
    "customer_profile = customers_df[['CustomerID', 'Region']].merge(customer_transactions, on='CustomerID', how='left')\n",
    "\n",
    "# One-hot encode categorical features (Region, most_frequent_category)\n",
    "customer_profile = pd.get_dummies(customer_profile, columns=['Region', 'most_frequent_category'])\n",
    "\n",
    "# Display customer profile with aggregated transaction features\n",
    "print(customer_profile.head())\n"
   ]
  },
  {
   "cell_type": "code",
   "execution_count": 17,
   "id": "5214d50f-121f-4589-83e0-5d7cbeec6875",
   "metadata": {},
   "outputs": [
    {
     "name": "stdout",
     "output_type": "stream",
     "text": [
      "CustomerID                            0\n",
      "total_transactions                    1\n",
      "total_spent                           1\n",
      "average_price                         1\n",
      "Region_Asia                           0\n",
      "Region_Europe                         0\n",
      "Region_North America                  0\n",
      "Region_South America                  0\n",
      "most_frequent_category_Books          0\n",
      "most_frequent_category_Clothing       0\n",
      "most_frequent_category_Electronics    0\n",
      "most_frequent_category_Home Decor     0\n",
      "dtype: int64\n",
      "CustomerID     C0001     C0002     C0003     C0004     C0005     C0006  \\\n",
      "CustomerID                                                               \n",
      "C0001       1.000000 -0.289569  0.232114  0.208178  0.353981  0.257408   \n",
      "C0002      -0.289569  1.000000 -0.112930 -0.399363  0.385806 -0.420811   \n",
      "C0003       0.232114 -0.112930  1.000000  0.138598 -0.216224  0.124638   \n",
      "C0004       0.208178 -0.399363  0.138598  1.000000 -0.503516  0.686392   \n",
      "C0005       0.353981  0.385806 -0.216224 -0.503516  1.000000 -0.283798   \n",
      "C0006       0.257408 -0.420811  0.124638  0.686392 -0.283798  1.000000   \n",
      "C0007       0.349572  0.285768 -0.301048 -0.488841  0.966249 -0.183109   \n",
      "C0008      -0.247392 -0.269571  0.238294  0.081029 -0.400511 -0.394489   \n",
      "C0009      -0.267206  0.406651 -0.198170 -0.553555 -0.046983 -0.296146   \n",
      "C0010      -0.282998  0.492121 -0.032438 -0.354422 -0.164161 -0.471205   \n",
      "\n",
      "CustomerID     C0007     C0008     C0009     C0010  \n",
      "CustomerID                                          \n",
      "C0001       0.349572 -0.247392 -0.267206 -0.282998  \n",
      "C0002       0.285768 -0.269571  0.406651  0.492121  \n",
      "C0003      -0.301048  0.238294 -0.198170 -0.032438  \n",
      "C0004      -0.488841  0.081029 -0.553555 -0.354422  \n",
      "C0005       0.966249 -0.400511 -0.046983 -0.164161  \n",
      "C0006      -0.183109 -0.394489 -0.296146 -0.471205  \n",
      "C0007       1.000000 -0.410610 -0.053333 -0.294780  \n",
      "C0008      -0.410610  1.000000 -0.412853 -0.226138  \n",
      "C0009      -0.053333 -0.412853  1.000000  0.810432  \n",
      "C0010      -0.294780 -0.226138  0.810432  1.000000  \n"
     ]
    }
   ],
   "source": [
    "import pandas as pd\n",
    "from sklearn.preprocessing import StandardScaler\n",
    "from sklearn.metrics.pairwise import cosine_similarity\n",
    "\n",
    "# Ensure no missing values in the customer profile features used for scaling\n",
    "# Check for missing values\n",
    "print(customer_profile.isnull().sum())\n",
    "\n",
    "# Option 1: Fill NaN values with 0 (or another strategy like the column mean)\n",
    "customer_features = customer_profile.drop(columns='CustomerID')\n",
    "customer_features.fillna(0, inplace=True)  # Filling NaN with 0\n",
    "\n",
    "# Option 2: Alternatively, drop rows with missing values\n",
    "# customer_features.dropna(inplace=True)\n",
    "\n",
    "# Standardize the features (important for cosine similarity)\n",
    "scaler = StandardScaler()\n",
    "scaled_features = scaler.fit_transform(customer_features)\n",
    "\n",
    "# Compute the cosine similarity matrix\n",
    "cosine_sim = cosine_similarity(scaled_features)\n",
    "\n",
    "# Create a DataFrame to hold the similarity scores\n",
    "cosine_sim_df = pd.DataFrame(cosine_sim, index=customer_profile['CustomerID'], columns=customer_profile['CustomerID'])\n",
    "\n",
    "# Display the similarity matrix (only the first 10 customers for readability)\n",
    "print(cosine_sim_df.iloc[:10, :10])\n"
   ]
  },
  {
   "cell_type": "code",
   "execution_count": 19,
   "id": "689d881c-4776-45ad-a3c1-2fc751cf9fe3",
   "metadata": {},
   "outputs": [
    {
     "name": "stdout",
     "output_type": "stream",
     "text": [
      "  cust_id lookalike_cust_id  similarity_score\n",
      "0   C0001             C0181          0.985151\n",
      "1   C0001             C0192          0.958554\n",
      "2   C0001             C0190          0.957915\n",
      "3   C0002             C0088          0.985121\n",
      "4   C0002             C0106          0.966302\n"
     ]
    }
   ],
   "source": [
    "# Function to get top N lookalikes for a given customer\n",
    "def get_top_lookalikes(customer_id, top_n=3):\n",
    "    similarity_scores = cosine_sim_df[customer_id].sort_values(ascending=False)[1:]  # Exclude self-similarity\n",
    "    top_lookalikes = similarity_scores.head(top_n)\n",
    "    return top_lookalikes.index.tolist(), top_lookalikes.values.tolist()\n",
    "\n",
    "# Get top 3 lookalikes for each of the first 20 customers\n",
    "lookalikes = {}\n",
    "for customer_id in customer_profile['CustomerID'].iloc[:20]:\n",
    "    lookalikes[customer_id] = get_top_lookalikes(customer_id)\n",
    "\n",
    "# Create the Lookalike.csv file\n",
    "lookalike_list = []\n",
    "for cust_id, (similar_cust_ids, scores) in lookalikes.items():\n",
    "    for sim_cust_id, score in zip(similar_cust_ids, scores):\n",
    "        lookalike_list.append({'cust_id': cust_id, 'lookalike_cust_id': sim_cust_id, 'similarity_score': score})\n",
    "\n",
    "# Convert to DataFrame and save to CSV\n",
    "lookalike_df = pd.DataFrame(lookalike_list)\n",
    "lookalike_df.to_csv('Lookalike.csv', index=False)\n",
    "\n",
    "# Display the first few rows of the Lookalike.csv\n",
    "print(lookalike_df.head())\n"
   ]
  },
  {
   "cell_type": "code",
   "execution_count": 23,
   "id": "f4c63b22-b42c-4ba5-92a7-812a6640c487",
   "metadata": {},
   "outputs": [
    {
     "name": "stdout",
     "output_type": "stream",
     "text": [
      "['.anaconda', '.apexlink_cache', '.cache', '.conda', '.condarc', '.continuum', '.eclipse', '.idlerc', '.ipynb_checkpoints', '.ipython', '.jupyter', '.keras', '.m2', '.matplotlib', '.p2', '.packettracer', '.redhat', '.sf', '.sfdx', '.virtual_documents', '.vscode', 'anaconda3', 'AppData', 'Application Data', 'Cisco Packet Tracer 8.2.2', 'Contacts', 'Cookies', 'Customers.csv', 'data.csv', 'Documents', 'Downloads', 'eclipse', 'eclipse-workspace', 'Favorites', 'Links', 'Local Settings', 'Lookalike.csv', 'Music', 'My Documents', 'NetHood', 'NTUSER.DAT', 'ntuser.dat.LOG1', 'ntuser.dat.LOG2', 'NTUSER.DAT{a2332f17-cdbf-11ec-8680-002248483d79}.TxR.0.regtrans-ms', 'NTUSER.DAT{a2332f17-cdbf-11ec-8680-002248483d79}.TxR.1.regtrans-ms', 'NTUSER.DAT{a2332f17-cdbf-11ec-8680-002248483d79}.TxR.2.regtrans-ms', 'NTUSER.DAT{a2332f17-cdbf-11ec-8680-002248483d79}.TxR.blf', 'NTUSER.DAT{a2332f18-cdbf-11ec-8680-002248483d79}.TM.blf', 'NTUSER.DAT{a2332f18-cdbf-11ec-8680-002248483d79}.TMContainer00000000000000000001.regtrans-ms', 'NTUSER.DAT{a2332f18-cdbf-11ec-8680-002248483d79}.TMContainer00000000000000000002.regtrans-ms', 'ntuser.ini', 'OneDrive', 'Oracle', 'PrintHood', 'Products.csv', 'Recent', 'Saved Games', 'Searches', 'SendTo', 'Start Menu', 'Templates', 'Transactions.csv', 'Untitled Folder', 'Untitled.ipynb', 'Untitled1.ipynb', 'Untitled2.ipynb', 'Untitled3.ipynb', 'Videos', 'wekafiles']\n"
     ]
    }
   ],
   "source": [
    "import os\n",
    "print(os.listdir())  # Lists all files in the current working directory\n"
   ]
  },
  {
   "cell_type": "code",
   "execution_count": 27,
   "id": "85f8dd8b-8a55-439a-a33e-fb3ea9cfbc77",
   "metadata": {},
   "outputs": [
    {
     "name": "stdout",
     "output_type": "stream",
     "text": [
      "  cust_id lookalike_cust_id  similarity_score\n",
      "0   C0001             C0181          0.985151\n",
      "1   C0001             C0192          0.958554\n",
      "2   C0001             C0190          0.957915\n",
      "3   C0002             C0088          0.985121\n",
      "4   C0002             C0106          0.966302\n"
     ]
    }
   ],
   "source": [
    "# Read the saved CSV file to confirm its content\n",
    "lookalike_df = pd.read_csv('Lookalike.csv')\n",
    "print(lookalike_df.head())  # Display the first few rows of the Lookalike recommendations\n"
   ]
  },
  {
   "cell_type": "code",
   "execution_count": 29,
   "id": "fb33b171-235b-48b8-9489-3b6d9b2392ea",
   "metadata": {},
   "outputs": [
    {
     "data": {
      "text/plain": [
       "'Lookalike.csv'"
      ]
     },
     "execution_count": 29,
     "metadata": {},
     "output_type": "execute_result"
    }
   ],
   "source": [
    "import shutil\n",
    "\n",
    "# Move the file to the current directory if not already\n",
    "shutil.move('Lookalike.csv', 'Lookalike.csv')\n"
   ]
  },
  {
   "cell_type": "code",
   "execution_count": null,
   "id": "32162ec6-795e-4e76-8224-a33c25b2d7e2",
   "metadata": {},
   "outputs": [],
   "source": []
  }
 ],
 "metadata": {
  "kernelspec": {
   "display_name": "Python 3 (ipykernel)",
   "language": "python",
   "name": "python3"
  },
  "language_info": {
   "codemirror_mode": {
    "name": "ipython",
    "version": 3
   },
   "file_extension": ".py",
   "mimetype": "text/x-python",
   "name": "python",
   "nbconvert_exporter": "python",
   "pygments_lexer": "ipython3",
   "version": "3.12.4"
  }
 },
 "nbformat": 4,
 "nbformat_minor": 5
}
